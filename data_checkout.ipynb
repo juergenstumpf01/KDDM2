{
 "cells": [
  {
   "cell_type": "code",
   "execution_count": 45,
   "metadata": {},
   "outputs": [],
   "source": [
    "import numpy as np\n",
    "import numpy as np\n",
    "import matplotlib.pyplot as plt\n",
    "from ipywidgets import interact\n",
    "import pandas as pd\n",
    "import seaborn as sns"
   ]
  },
  {
   "cell_type": "code",
   "execution_count": 28,
   "metadata": {},
   "outputs": [
    {
     "data": {
      "text/plain": [
       "(8, 8, 12220)"
      ]
     },
     "execution_count": 28,
     "metadata": {},
     "output_type": "execute_result"
    }
   ],
   "source": [
    "data_old = np.load('train.npy')\n",
    "data_old.shape\n"
   ]
  },
  {
   "cell_type": "code",
   "execution_count": 29,
   "metadata": {},
   "outputs": [
    {
     "data": {
      "text/plain": [
       "(8, 8, 12220)"
      ]
     },
     "execution_count": 29,
     "metadata": {},
     "output_type": "execute_result"
    }
   ],
   "source": [
    "data_new = np.load(\"train_new.npy\")\n",
    "data_new.shape"
   ]
  },
  {
   "cell_type": "code",
   "execution_count": 30,
   "metadata": {},
   "outputs": [
    {
     "data": {
      "text/plain": [
       "array([[[-1.02547480e+00, -1.01867676e+00, -9.90642342e-01, ...,\n",
       "         -1.01562353e+00, -1.02817619e+00, -1.00278518e+00],\n",
       "        [-9.74673983e-01, -9.78321573e-01, -9.74234960e-01, ...,\n",
       "         -2.69007628e-04,  6.28844964e-03,  2.95045098e-03],\n",
       "        [-1.00550931e+00, -1.00269290e+00, -1.00568616e+00, ...,\n",
       "          5.21056761e-03,  9.76609461e-03, -1.70789148e-01],\n",
       "        ...,\n",
       "        [-9.75588495e-01, -9.87673201e-01, -1.30220510e+00, ...,\n",
       "         -8.00990304e-03,  3.12433990e-03, -6.57816654e-03],\n",
       "        [-9.90781576e-01, -9.95390259e-01, -9.86025337e-01, ...,\n",
       "         -2.49284512e-02, -4.01528804e-02,  9.84914992e-03],\n",
       "        [-1.00214040e+00, -1.00397939e+00, -9.70682312e-01, ...,\n",
       "         -1.00560045e+00, -9.99962962e-01, -1.00177486e+00]],\n",
       "\n",
       "       [[-9.96746562e-01, -9.95900236e-01, -9.98031970e-01, ...,\n",
       "         -9.81180301e-01, -9.99825985e-01, -9.78941131e-01],\n",
       "        [-1.01360381e+00, -1.01649598e+00, -9.65679727e-01, ...,\n",
       "          6.03457005e-02, -3.91607103e-02,  2.91307103e-01],\n",
       "        [-1.09938819e+00, -1.28316118e+00, -5.50161236e-01, ...,\n",
       "         -2.11096345e-02,  4.61720283e-02, -2.44712462e-02],\n",
       "        ...,\n",
       "        [-9.65611124e-01, -9.67115623e-01, -1.06133138e+00, ...,\n",
       "         -9.91322138e-01, -9.80704748e-01, -9.88968530e-01],\n",
       "        [-1.00958842e+00, -1.01184609e+00, -1.00515124e+00, ...,\n",
       "         -1.81275916e-03,  8.11648233e-03, -1.05338783e-02],\n",
       "        [-1.00407427e+00, -9.90861755e-01, -9.99166557e-01, ...,\n",
       "         -9.92058708e-01, -9.90866720e-01, -1.00339844e+00]],\n",
       "\n",
       "       [[-1.82076400e-03, -2.03365722e-02, -4.67361357e-03, ...,\n",
       "         -9.77362457e-01, -9.92615225e-01, -9.93899109e-01],\n",
       "        [-3.18203864e-03, -4.86223612e-03, -3.00304802e-02, ...,\n",
       "         -2.19007980e-03,  4.35558929e-03,  4.28023927e-04],\n",
       "        [-1.24950400e-02,  9.33508618e-03, -8.85009110e-03, ...,\n",
       "          6.02875075e-03, -1.14511329e-03, -3.24537108e-03],\n",
       "        ...,\n",
       "        [-1.13104581e-02, -4.35946731e-03,  7.71649072e-03, ...,\n",
       "         -9.89183937e-01, -9.93608507e-01, -9.77127981e-01],\n",
       "        [-1.38340458e-03,  2.20397549e-03, -3.60616703e-02, ...,\n",
       "         -1.01565268e+00, -1.01330545e+00, -1.00190639e+00],\n",
       "        [-1.25300522e-02,  5.24590430e-03, -3.17953200e-03, ...,\n",
       "          3.32620477e-03,  3.86426423e-03, -3.28988451e-03]],\n",
       "\n",
       "       ...,\n",
       "\n",
       "       [[-2.07276429e-03,  3.12428914e-04, -1.39763689e-02, ...,\n",
       "          1.01427674e+00,  1.01506385e+00,  1.01386480e+00],\n",
       "        [-3.00876876e-02, -1.85979551e-02, -1.30595510e-01, ...,\n",
       "          4.57403056e-02, -1.82854489e-04,  9.54575764e-03],\n",
       "        [-2.05065259e-03,  1.01460833e-04, -2.97492434e-03, ...,\n",
       "          9.73273643e-03,  7.97662475e-03,  1.39208262e-03],\n",
       "        ...,\n",
       "        [-1.19139896e-02,  1.06122011e-02, -9.08264807e-03, ...,\n",
       "          1.00363121e+00,  9.89374601e-01,  1.00253978e+00],\n",
       "        [ 3.33569353e-03, -3.84625826e-02, -5.24335551e-03, ...,\n",
       "          1.00851638e+00,  9.98482906e-01,  1.01240350e+00],\n",
       "        [ 1.34279696e-02,  4.14598880e+00,  3.69133655e-01, ...,\n",
       "          9.89839746e-01,  9.97976799e-01,  9.80167168e-01]],\n",
       "\n",
       "       [[ 9.60154589e-01,  1.04065019e+00,  9.78590204e-01, ...,\n",
       "         -6.31713626e-03, -7.60752887e-04,  4.57367019e-03],\n",
       "        [ 9.67347587e-01,  9.94538547e-01,  9.83251904e-01, ...,\n",
       "          8.81699092e-01,  1.05773900e+00,  9.42008886e-01],\n",
       "        [ 1.00364211e+00,  1.02671264e+00,  9.81593036e-01, ...,\n",
       "          1.00630970e+00,  1.01658839e+00,  1.05286393e+00],\n",
       "        ...,\n",
       "        [ 1.02389561e+00,  9.48781660e-01,  1.05052882e+00, ...,\n",
       "          1.03339717e-02,  7.52271612e-03, -7.79904745e-02],\n",
       "        [ 1.05555018e+00,  1.02258203e+00,  1.00166965e+00, ...,\n",
       "         -1.06651206e-02, -2.05936829e-03, -3.01571497e-02],\n",
       "        [ 1.07114712e+00,  1.00898899e+00,  1.00893856e+00, ...,\n",
       "          1.00070669e+00,  1.00270629e+00,  9.96912696e-01]],\n",
       "\n",
       "       [[ 9.77695382e-01,  9.68380314e-01,  9.71729505e-01, ...,\n",
       "         -2.84455942e-02, -3.70594196e-03,  4.31033324e-02],\n",
       "        [ 1.01368433e+00,  1.00729636e+00,  9.96834690e-01, ...,\n",
       "          9.15427053e-01,  9.62012481e-01,  9.70794613e-01],\n",
       "        [ 1.01191994e+00,  9.83219886e-01,  9.96675715e-01, ...,\n",
       "          1.20400663e-02,  5.45554103e-03,  8.14100807e-02],\n",
       "        ...,\n",
       "        [ 9.94949887e-01,  9.89523247e-01,  1.00393350e+00, ...,\n",
       "         -1.58941059e-03,  2.57325246e-02, -3.33378860e-03],\n",
       "        [ 1.02536322e+00,  1.00411481e+00, -7.77902257e-01, ...,\n",
       "         -3.44197035e-02, -6.25514300e-03, -3.56450677e-03],\n",
       "        [ 9.77510888e-01,  1.00714824e+00,  9.88241009e-01, ...,\n",
       "          1.85112861e-02, -1.01893739e-02,  2.50703199e-04]]])"
      ]
     },
     "execution_count": 30,
     "metadata": {},
     "output_type": "execute_result"
    }
   ],
   "source": [
    "data_old"
   ]
  },
  {
   "cell_type": "code",
   "execution_count": 31,
   "metadata": {},
   "outputs": [],
   "source": [
    "import numpy as np\n",
    "import matplotlib.pyplot as plt\n",
    "from ipywidgets import interact\n",
    "\n",
    "def confusion_matrix(data):\n",
    "\n",
    "    def plot_frame(frame):\n",
    "        fig, ax = plt.subplots()\n",
    "        im = ax.imshow(data_old[:, :, frame], cmap='viridis', interpolation='nearest', extent=[0.5, 8.5, 8.5, 0.5])\n",
    "        plt.title(f\"Frame {frame + 1}\")\n",
    "        plt.colorbar(im)\n",
    "        \n",
    "        for i in range(8):\n",
    "            for j in range(8):\n",
    "                value = data_old[i, j, frame]\n",
    "                plt.text(j + 1, i + 1, f'{value:.2f}', color='white', ha='center', va='center', fontsize=8)\n",
    "\n",
    "        plt.xticks(range(1, 9), ['A', 'B', 'C', 'D', 'E', 'F', 'G', 'H'])\n",
    "        plt.yticks(range(1, 9))\n",
    "        plt.show()\n",
    "\n",
    "    # Create an interactive scroller\n",
    "    interact(plot_frame, frame=(0, data_old.shape[2] - 1, 1))\n"
   ]
  },
  {
   "cell_type": "code",
   "execution_count": 32,
   "metadata": {},
   "outputs": [
    {
     "data": {
      "application/vnd.jupyter.widget-view+json": {
       "model_id": "fcef3246b75a4710b917c46f8d49a4d2",
       "version_major": 2,
       "version_minor": 0
      },
      "text/plain": [
       "interactive(children=(IntSlider(value=6109, description='frame', max=12219), Output()), _dom_classes=('widget-…"
      ]
     },
     "metadata": {},
     "output_type": "display_data"
    }
   ],
   "source": [
    "confusion_matrix(data_old)"
   ]
  },
  {
   "cell_type": "markdown",
   "metadata": {},
   "source": [
    "#### Time series\n",
    "Following code function takes the square index as parameter and plots the value over time for this square"
   ]
  },
  {
   "cell_type": "code",
   "execution_count": 38,
   "metadata": {},
   "outputs": [],
   "source": [
    "def plot_time_series(spatial_index, data):\n",
    "    time_series = data[spatial_index[0], spatial_index[1], :]\n",
    "    \n",
    "    plt.plot(range(1, data.shape[2] + 1), time_series, label=f'Spatial Index {spatial_index}')\n",
    "    plt.xlabel('Sample Index')\n",
    "    plt.ylabel('Value')\n",
    "    plt.title(f'Time Series for Spatial Index {spatial_index}')\n",
    "    plt.legend()\n",
    "    plt.show()"
   ]
  },
  {
   "cell_type": "code",
   "execution_count": 40,
   "metadata": {},
   "outputs": [
    {
     "data": {
      "image/png": "[encoded data removed]",
      "text/plain": [
       "<Figure size 640x480 with 1 Axes>"
      ]
     },
     "metadata": {},
     "output_type": "display_data"
    }
   ],
   "source": [
    "\n",
    "plot_time_series((5, 5), data_old)"
   ]
  }
 ],
 "metadata": {
  "kernelspec": {
   "display_name": "Python 3",
   "language": "python",
   "name": "python3"
  },
  "language_info": {
   "codemirror_mode": {
    "name": "ipython",
    "version": 3
   },
   "file_extension": ".py",
   "mimetype": "text/x-python",
   "name": "python",
   "nbconvert_exporter": "python",
   "pygments_lexer": "ipython3",
   "version": "3.11.3"
  }
 },
 "nbformat": 4,
 "nbformat_minor": 2
}
