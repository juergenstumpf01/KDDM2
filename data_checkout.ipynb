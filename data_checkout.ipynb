{
 "cells": [
  {
   "cell_type": "code",
   "execution_count": 2,
   "metadata": {},
   "outputs": [],
   "source": [
    "import numpy as np\n",
    "import matplotlib.pyplot as plt\n",
    "from scipy.fft import fft, ifft\n",
    "from ipywidgets import interact\n",
    "import pandas as pd\n",
    "import seaborn as sns\n",
    "from scipy.signal import lfilter\n"
   ]
  },
  {
   "cell_type": "code",
   "execution_count": 3,
   "metadata": {},
   "outputs": [
    {
     "data": {
      "text/plain": [
       "(8, 8, 12220)"
      ]
     },
     "execution_count": 3,
     "metadata": {},
     "output_type": "execute_result"
    }
   ],
   "source": [
    "data_old = np.load('train.npy')\n",
    "data_old.shape\n"
   ]
  },
  {
   "cell_type": "code",
   "execution_count": 4,
   "metadata": {},
   "outputs": [
    {
     "data": {
      "text/plain": [
       "(8, 8, 12220)"
      ]
     },
     "execution_count": 4,
     "metadata": {},
     "output_type": "execute_result"
    }
   ],
   "source": [
    "data_new = np.load(\"train_new.npy\")\n",
    "data_new.shape"
   ]
  },
  {
   "cell_type": "code",
   "execution_count": 5,
   "metadata": {},
   "outputs": [
    {
     "data": {
      "text/plain": [
       "array([[-1.02547480e+00, -1.01867676e+00, -9.90642342e-01, ...,\n",
       "        -1.01562353e+00, -1.02817619e+00, -1.00278518e+00],\n",
       "       [-9.74673983e-01, -9.78321573e-01, -9.74234960e-01, ...,\n",
       "        -2.69007628e-04,  6.28844964e-03,  2.95045098e-03],\n",
       "       [-1.00550931e+00, -1.00269290e+00, -1.00568616e+00, ...,\n",
       "         5.21056761e-03,  9.76609461e-03, -1.70789148e-01],\n",
       "       ...,\n",
       "       [-9.75588495e-01, -9.87673201e-01, -1.30220510e+00, ...,\n",
       "        -8.00990304e-03,  3.12433990e-03, -6.57816654e-03],\n",
       "       [-9.90781576e-01, -9.95390259e-01, -9.86025337e-01, ...,\n",
       "        -2.49284512e-02, -4.01528804e-02,  9.84914992e-03],\n",
       "       [-1.00214040e+00, -1.00397939e+00, -9.70682312e-01, ...,\n",
       "        -1.00560045e+00, -9.99962962e-01, -1.00177486e+00]])"
      ]
     },
     "execution_count": 5,
     "metadata": {},
     "output_type": "execute_result"
    }
   ],
   "source": [
    "data_old[0]"
   ]
  },
  {
   "cell_type": "code",
   "execution_count": null,
   "metadata": {},
   "outputs": [],
   "source": []
  },
  {
   "cell_type": "code",
   "execution_count": 6,
   "metadata": {},
   "outputs": [],
   "source": [
    "block = 0\n",
    "res = np.zeros((8, 8, 47))\n",
    "for row in range(8):\n",
    "    \n",
    "    for col in range(8):\n",
    "\n",
    "        block = np.clip(data_new[row,col,:], -1, 1)\n",
    "        for n in range(47):\n",
    "            res[row,col,n] = np.rint(np.mean(block[260*n:260*n+259]))\n",
    "\n",
    "\n",
    "result = res\n",
    "\n",
    "\n",
    "def conf_matrix(data):\n",
    "\n",
    "    def plot_frame(frame):\n",
    "        fig, ax = plt.subplots()\n",
    "        im = ax.imshow(data[:, :, frame], cmap='viridis', interpolation='nearest', extent=[0.5, 8.5, 8.5, 0.5])\n",
    "        plt.title(f\"Frame {frame + 1}\")\n",
    "        plt.colorbar(im)\n",
    "        \n",
    "        for i in range(8):\n",
    "            for j in range(8):\n",
    "                value = data[i, j, frame]\n",
    "                plt.text(j + 1, i + 1, f'{value:.2f}', color='white', ha='center', va='center', fontsize=8)\n",
    "\n",
    "        plt.xticks(range(1, 9))\n",
    "        plt.yticks(range(1, 9))\n",
    "        plt.show()\n",
    "\n",
    "    # Create an interactive scroller\n",
    "    interact(plot_frame, frame=(0, data.shape[2] - 1, 1))\n",
    "\n"
   ]
  },
  {
   "cell_type": "code",
   "execution_count": 7,
   "metadata": {},
   "outputs": [
    {
     "data": {
      "application/vnd.jupyter.widget-view+json": {
       "model_id": "1adce155c0984cff90f245ba88dd2214",
       "version_major": 2,
       "version_minor": 0
      },
      "text/plain": [
       "interactive(children=(IntSlider(value=23, description='frame', max=46), Output()), _dom_classes=('widget-inter…"
      ]
     },
     "metadata": {},
     "output_type": "display_data"
    }
   ],
   "source": [
    "conf_matrix(res)"
   ]
  },
  {
   "cell_type": "code",
   "execution_count": 8,
   "metadata": {},
   "outputs": [
    {
     "name": "stdout",
     "output_type": "stream",
     "text": [
      "(8, 8, 10660)\n",
      "-1.0\n"
     ]
    }
   ],
   "source": [
    "pred_ = np.load(\"dummy_test_dataset.npy\")\n",
    "print(pred_.shape)\n",
    "\n",
    "moves = [[7,3, 4,3],\n",
    "         [3,2, 4,3],\n",
    "         [7,4, 1,4],\n",
    "         [1,0, 2,1],\n",
    "         [4,5, 4,3],\n",
    "         [2,1, 3,0],\n",
    "         [6,1, 4,1],\n",
    "         [3,0, 4,0],\n",
    "         [4,3, 5,2],\n",
    "         [2,3, 3,3],\n",
    "         [1,4, 1,0],\n",
    "         [0,0, 1,1],\n",
    "         [1,0, 1,1],\n",
    "         [3,3, 4,2],\n",
    "         [5,2, 2,5],\n",
    "         [4,0, 5,0],\n",
    "         [2,5, 2,0],\n",
    "         [5,0, 4,1],\n",
    "         [6,2, 5,2],\n",
    "         [4,1, 5,2],\n",
    "         [2,0, 7,0],\n",
    "         [5,2, 6,3],\n",
    "         [7,0, 6,1],\n",
    "         [6,3, 7,3],\n",
    "         [5,7, 7,5],\n",
    "         [0,3, 6,3],\n",
    "         [1,1, 1,3],\n",
    "         [6,3, 1,3],\n",
    "         [7,5, 4,2],\n",
    "         [3,1, 4,2],\n",
    "         [6,1, 0,7],\n",
    "         [1,3, 5,3],\n",
    "         [0,7, 0,0],\n",
    "         [4,2, 5,2],\n",
    "         [0,0, 4,0],\n",
    "         [7,3, 7,4],\n",
    "         [5,5, 4,5],\n",
    "         [1,5, 3,5],\n",
    "         [7,1, 7,2],\n",
    "         [5,3, 6,3],\n",
    "         [4,0, 1,0]\n",
    "         ]\n",
    "\n",
    "for j in range(260):        \n",
    "    pred_[:,:,j] = result[:,:,46]\n",
    "\n",
    "print(result[0,0,46])\n",
    "for i in range(41):\n",
    "    value = 0\n",
    "    if i%2==0: value = 1\n",
    "    else: value = -1 \n",
    "\n",
    "    for j in range(260): \n",
    "        \n",
    "        pred_[moves[i][0],moves[i][1],260*i+j] = 0\n",
    "        pred_[moves[i][2],moves[i][3],260*i+j] = value\n",
    "\n",
    "    if i < 40:\n",
    "        pred_[:,:,(i+1)*260:(i+1)*260+260] = pred_[:,:,i*260:i*260+260]\n",
    "\n",
    "pred_[:,:,10659] = pred_[:,:,10658]\n",
    "\n",
    "#np.save(\"prediction.npy\", pred_)"
   ]
  },
  {
   "cell_type": "code",
   "execution_count": 9,
   "metadata": {},
   "outputs": [
    {
     "data": {
      "text/plain": [
       "array([[[-1., -1., -1., ...,  0.,  0.,  0.],\n",
       "        [-0., -0., -0., ..., -0., -0., -0.],\n",
       "        [-0., -0., -0., ..., -0., -0., -0.],\n",
       "        ...,\n",
       "        [ 0.,  0.,  0., ...,  0.,  0.,  0.],\n",
       "        [ 0.,  0.,  0., ...,  0.,  0.,  0.],\n",
       "        [-1., -1., -1., ...,  0.,  0.,  0.]],\n",
       "\n",
       "       [[-1., -1., -1., ...,  1.,  1.,  1.],\n",
       "        [-0., -0., -0., ...,  0.,  0.,  0.],\n",
       "        [-0., -0., -0., ..., -0., -0., -0.],\n",
       "        ...,\n",
       "        [-1., -1., -1., ...,  0.,  0.,  0.],\n",
       "        [ 0.,  0.,  0., ...,  0.,  0.,  0.],\n",
       "        [-1., -1., -1., ..., -1., -1., -1.]],\n",
       "\n",
       "       [[-1., -1., -1., ...,  0.,  0.,  0.],\n",
       "        [-0., -0., -0., ...,  0.,  0.,  0.],\n",
       "        [-0., -0., -0., ..., -0., -0., -0.],\n",
       "        ...,\n",
       "        [-1., -1., -1., ...,  0.,  0.,  0.],\n",
       "        [-1., -1., -1., ..., -1., -1., -1.],\n",
       "        [ 0.,  0.,  0., ...,  0.,  0.,  0.]],\n",
       "\n",
       "       ...,\n",
       "\n",
       "       [[ 1.,  1.,  1., ...,  0.,  0.,  0.],\n",
       "        [-0., -0., -0., ..., -0., -0., -0.],\n",
       "        [-0., -0., -0., ..., -1., -1., -1.],\n",
       "        ...,\n",
       "        [ 1.,  1.,  1., ...,  0.,  0.,  0.],\n",
       "        [ 1.,  1.,  1., ...,  1.,  1.,  1.],\n",
       "        [ 1.,  1.,  1., ...,  0.,  0.,  0.]],\n",
       "\n",
       "       [[ 0.,  0.,  0., ...,  0.,  0.,  0.],\n",
       "        [ 1.,  1.,  1., ...,  0.,  0.,  0.],\n",
       "        [ 1.,  1.,  1., ...,  0.,  0.,  0.],\n",
       "        ...,\n",
       "        [-0., -0., -0., ..., -0., -0., -0.],\n",
       "        [ 0.,  0.,  0., ...,  0.,  0.,  0.],\n",
       "        [ 1.,  1.,  1., ...,  1.,  1.,  1.]],\n",
       "\n",
       "       [[ 0.,  0.,  0., ...,  0.,  0.,  0.],\n",
       "        [ 1.,  1.,  1., ...,  0.,  0.,  0.],\n",
       "        [-0., -0., -0., ...,  1.,  1.,  1.],\n",
       "        ...,\n",
       "        [-0., -0., -0., ...,  0.,  0.,  0.],\n",
       "        [ 0.,  0.,  0., ...,  0.,  0.,  0.],\n",
       "        [ 0.,  0.,  0., ...,  0.,  0.,  0.]]])"
      ]
     },
     "execution_count": 9,
     "metadata": {},
     "output_type": "execute_result"
    }
   ],
   "source": [
    "pred_"
   ]
  },
  {
   "cell_type": "code",
   "execution_count": 10,
   "metadata": {},
   "outputs": [
    {
     "data": {
      "application/vnd.jupyter.widget-view+json": {
       "model_id": "674ffe0b01ba457a953261c4e50bf6d4",
       "version_major": 2,
       "version_minor": 0
      },
      "text/plain": [
       "interactive(children=(IntSlider(value=6109, description='frame', max=12219), Output()), _dom_classes=('widget-…"
      ]
     },
     "metadata": {},
     "output_type": "display_data"
    }
   ],
   "source": [
    "conf_matrix(data_new)"
   ]
  },
  {
   "cell_type": "markdown",
   "metadata": {},
   "source": [
    "### concetenate test data and future data"
   ]
  },
  {
   "cell_type": "code",
   "execution_count": 11,
   "metadata": {},
   "outputs": [
    {
     "data": {
      "text/plain": [
       "(8, 8, 22880)"
      ]
     },
     "execution_count": 11,
     "metadata": {},
     "output_type": "execute_result"
    }
   ],
   "source": [
    "total_data = np.concatenate((data_new, pred_), axis=2)\n",
    "total_data.shape"
   ]
  },
  {
   "cell_type": "code",
   "execution_count": 12,
   "metadata": {},
   "outputs": [
    {
     "data": {
      "text/plain": [
       "array([[[-1.00993789e+00, -9.53324801e-01, -9.97342991e-01, ...,\n",
       "          0.00000000e+00,  0.00000000e+00,  0.00000000e+00],\n",
       "        [-1.00615286e+00, -9.90284780e-01, -1.07147802e+00, ...,\n",
       "         -0.00000000e+00, -0.00000000e+00, -0.00000000e+00],\n",
       "        [-1.00171308e+00, -1.01434335e+00, -9.94572829e-01, ...,\n",
       "         -0.00000000e+00, -0.00000000e+00, -0.00000000e+00],\n",
       "        ...,\n",
       "        [-9.96720734e-01, -9.98750420e-01, -9.86957079e-01, ...,\n",
       "          0.00000000e+00,  0.00000000e+00,  0.00000000e+00],\n",
       "        [-9.69680274e-01, -1.04794135e+00, -9.23368162e-01, ...,\n",
       "          0.00000000e+00,  0.00000000e+00,  0.00000000e+00],\n",
       "        [-9.79870585e-01, -9.72051655e-01, -1.03764819e+00, ...,\n",
       "          0.00000000e+00,  0.00000000e+00,  0.00000000e+00]],\n",
       "\n",
       "       [[-1.00630702e+00, -9.90432588e-01, -1.00444859e+00, ...,\n",
       "          1.00000000e+00,  1.00000000e+00,  1.00000000e+00],\n",
       "        [-1.00667059e+00, -1.00730782e+00, -1.00355724e+00, ...,\n",
       "          0.00000000e+00,  0.00000000e+00,  0.00000000e+00],\n",
       "        [-1.01050075e+00, -1.00381536e+00, -9.87075343e-01, ...,\n",
       "         -0.00000000e+00, -0.00000000e+00, -0.00000000e+00],\n",
       "        ...,\n",
       "        [-1.00342989e+00, -9.98489212e-01, -1.02182574e+00, ...,\n",
       "          0.00000000e+00,  0.00000000e+00,  0.00000000e+00],\n",
       "        [-1.01205371e+00, -1.00262986e+00, -1.01021244e+00, ...,\n",
       "          0.00000000e+00,  0.00000000e+00,  0.00000000e+00],\n",
       "        [-1.00336214e+00, -1.15741472e+00, -1.03820797e+00, ...,\n",
       "         -1.00000000e+00, -1.00000000e+00, -1.00000000e+00]],\n",
       "\n",
       "       [[-1.16343607e-03, -7.42612359e-03,  6.85960958e-03, ...,\n",
       "          0.00000000e+00,  0.00000000e+00,  0.00000000e+00],\n",
       "        [ 1.93832796e-03, -6.53183445e-03, -2.70106515e-02, ...,\n",
       "          0.00000000e+00,  0.00000000e+00,  0.00000000e+00],\n",
       "        [ 2.64585605e-02,  1.07449260e-02,  2.70870198e-02, ...,\n",
       "         -0.00000000e+00, -0.00000000e+00, -0.00000000e+00],\n",
       "        ...,\n",
       "        [-8.91576726e-03, -2.63763872e-02,  1.50464536e-02, ...,\n",
       "          0.00000000e+00,  0.00000000e+00,  0.00000000e+00],\n",
       "        [ 4.56377670e-02,  9.56423244e-03,  3.62330978e-03, ...,\n",
       "         -1.00000000e+00, -1.00000000e+00, -1.00000000e+00],\n",
       "        [-1.95583664e-02, -1.95006588e-02, -2.75184709e-02, ...,\n",
       "          0.00000000e+00,  0.00000000e+00,  0.00000000e+00]],\n",
       "\n",
       "       ...,\n",
       "\n",
       "       [[-4.63063149e-02,  4.49527005e-02, -6.64337603e-02, ...,\n",
       "          0.00000000e+00,  0.00000000e+00,  0.00000000e+00],\n",
       "        [ 1.45631605e-02,  3.77392224e-03,  1.69011636e-02, ...,\n",
       "         -0.00000000e+00, -0.00000000e+00, -0.00000000e+00],\n",
       "        [-1.27756102e-01, -6.75835244e-01,  4.50446199e-01, ...,\n",
       "         -1.00000000e+00, -1.00000000e+00, -1.00000000e+00],\n",
       "        ...,\n",
       "        [ 6.69425543e-02, -7.49648814e-02, -2.57490792e-02, ...,\n",
       "          0.00000000e+00,  0.00000000e+00,  0.00000000e+00],\n",
       "        [-4.65042739e-03, -1.52567764e-02,  1.69561923e-02, ...,\n",
       "          1.00000000e+00,  1.00000000e+00,  1.00000000e+00],\n",
       "        [ 2.80218475e-04,  4.32870897e-02,  6.12504874e-03, ...,\n",
       "          0.00000000e+00,  0.00000000e+00,  0.00000000e+00]],\n",
       "\n",
       "       [[ 1.00079532e+00,  1.00130935e+00,  9.92422323e-01, ...,\n",
       "          0.00000000e+00,  0.00000000e+00,  0.00000000e+00],\n",
       "        [ 1.00116692e+00,  1.00154514e+00,  9.88629994e-01, ...,\n",
       "          0.00000000e+00,  0.00000000e+00,  0.00000000e+00],\n",
       "        [ 9.95257414e-01,  1.00828279e+00,  1.01191002e+00, ...,\n",
       "          0.00000000e+00,  0.00000000e+00,  0.00000000e+00],\n",
       "        ...,\n",
       "        [ 1.05211346e+00,  9.89448069e-01,  1.01169949e+00, ...,\n",
       "         -0.00000000e+00, -0.00000000e+00, -0.00000000e+00],\n",
       "        [ 9.71032289e-01,  1.00333611e+00,  9.78113835e-01, ...,\n",
       "          0.00000000e+00,  0.00000000e+00,  0.00000000e+00],\n",
       "        [ 1.03505700e+00,  9.99072533e-01,  1.00618506e+00, ...,\n",
       "          1.00000000e+00,  1.00000000e+00,  1.00000000e+00]],\n",
       "\n",
       "       [[ 9.75183238e-01,  1.02284934e+00,  1.00248620e+00, ...,\n",
       "          0.00000000e+00,  0.00000000e+00,  0.00000000e+00],\n",
       "        [ 1.01088042e+00,  1.00512051e+00,  1.00810056e+00, ...,\n",
       "          0.00000000e+00,  0.00000000e+00,  0.00000000e+00],\n",
       "        [ 9.97375870e-01,  1.00305799e+00,  1.00444872e+00, ...,\n",
       "          1.00000000e+00,  1.00000000e+00,  1.00000000e+00],\n",
       "        ...,\n",
       "        [ 1.00354443e+00,  1.00653611e+00,  1.02663751e+00, ...,\n",
       "          0.00000000e+00,  0.00000000e+00,  0.00000000e+00],\n",
       "        [ 1.00446735e+00,  9.94806501e-01,  9.91609568e-01, ...,\n",
       "          0.00000000e+00,  0.00000000e+00,  0.00000000e+00],\n",
       "        [ 1.00644471e+00,  1.02398455e+00,  1.00574473e+00, ...,\n",
       "          0.00000000e+00,  0.00000000e+00,  0.00000000e+00]]])"
      ]
     },
     "execution_count": 12,
     "metadata": {},
     "output_type": "execute_result"
    }
   ],
   "source": [
    "total_data"
   ]
  },
  {
   "cell_type": "code",
   "execution_count": 13,
   "metadata": {},
   "outputs": [
    {
     "data": {
      "application/vnd.jupyter.widget-view+json": {
       "model_id": "7e30c78df9c240fe82d5557e02f5d373",
       "version_major": 2,
       "version_minor": 0
      },
      "text/plain": [
       "interactive(children=(IntSlider(value=11439, description='frame', max=22879), Output()), _dom_classes=('widget…"
      ]
     },
     "metadata": {},
     "output_type": "display_data"
    }
   ],
   "source": [
    "conf_matrix(total_data)"
   ]
  },
  {
   "cell_type": "markdown",
   "metadata": {},
   "source": [
    "### Predictions etc"
   ]
  },
  {
   "cell_type": "markdown",
   "metadata": {},
   "source": [
    "#### Time series\n",
    "Following code function takes the square index as parameter and plots the value over time for this square"
   ]
  },
  {
   "cell_type": "code",
   "execution_count": 14,
   "metadata": {},
   "outputs": [],
   "source": [
    "def plot_time_series(spatial_index, data):\n",
    "    time_series = data[spatial_index[0], spatial_index[1], :]\n",
    "    plt.figure(figsize=(20, 16))  # Set the figure size\n",
    "\n",
    "    plt.plot(range(1, data.shape[2] + 1), time_series, label=f'Spatial Index {spatial_index}', linewidth=0.2)\n",
    "    plt.xlabel('Sample Index')\n",
    "    plt.ylabel('Value')\n",
    "    plt.title(f'Time Series for Spatial Index {spatial_index}')\n",
    "    plt.legend()\n",
    "    plt.show()"
   ]
  },
  {
   "cell_type": "markdown",
   "metadata": {},
   "source": [
    "#### \"outlier removement\"\n",
    "very basic outlier removement"
   ]
  },
  {
   "cell_type": "code",
   "execution_count": 15,
   "metadata": {},
   "outputs": [],
   "source": [
    "data_without_oultier_simple = total_data.copy()\n",
    "mask = (data_without_oultier_simple >= 1.5) | (data_without_oultier_simple <= -1.5)\n",
    "\n",
    "data_without_oultier_simple[mask] = np.nan"
   ]
  },
  {
   "cell_type": "markdown",
   "metadata": {},
   "source": [
    "#### getting linear functions"
   ]
  },
  {
   "cell_type": "code",
   "execution_count": 16,
   "metadata": {},
   "outputs": [],
   "source": [
    "\n",
    "spatial_index = (5,0)\n",
    "\n",
    "selected_data = data_without_oultier_simple[spatial_index[0], spatial_index[1], :]\n",
    "selected_data = selected_data[:]"
   ]
  },
  {
   "cell_type": "code",
   "execution_count": 17,
   "metadata": {},
   "outputs": [
    {
     "data": {
      "image/png": "[encoded data removed]",
      "text/plain": [
       "<Figure size 700x400 with 1 Axes>"
      ]
     },
     "metadata": {},
     "output_type": "display_data"
    }
   ],
   "source": [
    "plt.figure(figsize=(7, 4))  # Set the figure size\n",
    "plt.plot(range(1, len(selected_data) + 1), selected_data, label=f'Spatial Index {spatial_index}', linewidth=0.2)\n",
    "plt.xlabel('Sample Index')\n",
    "plt.ylabel('Value')\n",
    "plt.title(f'Time Series for Spatial Index {spatial_index}')\n",
    "plt.legend()\n",
    "plt.show()"
   ]
  },
  {
   "cell_type": "code",
   "execution_count": 18,
   "metadata": {},
   "outputs": [],
   "source": [
    "nan_indices = np.isnan(selected_data)\n",
    "\n",
    "selected_data_without_nan = selected_data[~nan_indices]\n",
    "\n"
   ]
  },
  {
   "cell_type": "code",
   "execution_count": 19,
   "metadata": {},
   "outputs": [
    {
     "data": {
      "text/plain": [
       "-1.8343071013114968e-05"
      ]
     },
     "execution_count": 19,
     "metadata": {},
     "output_type": "execute_result"
    }
   ],
   "source": [
    "import numpy as np\n",
    "from scipy.stats import linregress\n",
    "import matplotlib.pyplot as plt\n",
    "\n",
    "y_values = selected_data_without_nan[:] # Replace this with your actual data\n",
    "\n",
    "x_values = np.arange(len(y_values))\n",
    "\n",
    "slope, intercept, r_value, p_value, std_err = linregress(x_values, y_values)\n",
    "slope\n"
   ]
  },
  {
   "cell_type": "code",
   "execution_count": 20,
   "metadata": {},
   "outputs": [],
   "source": [
    "import numpy as np\n",
    "from scipy.stats import linregress\n",
    "import matplotlib.pyplot as plt\n",
    "\n",
    "# Assuming your data is a one-dimensional numpy array\n",
    "y_values = selected_data_without_nan  # Replace this with your actual data\n",
    "\n",
    "# Create x values corresponding to the indices\n",
    "x_values = np.arange(len(y_values))\n",
    "\n",
    "# Perform linear regression to get slope (k) and intercept (d)\n",
    "slope, intercept, r_value, p_value, std_err = linregress(x_values, y_values)\n",
    "\n",
    "# Generate the linear function based on the regression parameters\n",
    "linear_function = lambda x: slope * x + intercept\n",
    "\n",
    "# Generate new x values for the linear function\n",
    "x_linear_function = np.linspace(0, len(y_values) - 1, num=1000)\n",
    "\n",
    "# Calculate y values for the linear function\n",
    "y_linear_function = linear_function(x_linear_function)\n",
    "\n"
   ]
  },
  {
   "cell_type": "code",
   "execution_count": 21,
   "metadata": {},
   "outputs": [
    {
     "data": {
      "image/png": "[encoded data removed]",
      "text/plain": [
       "<Figure size 1200x800 with 1 Axes>"
      ]
     },
     "metadata": {},
     "output_type": "display_data"
    }
   ],
   "source": [
    "plt.figure(figsize=(12, 8)) \n",
    "plt.plot(range(1, len(selected_data_without_nan) + 1), selected_data_without_nan, label=f'Spatial Index {spatial_index}', linewidth=0.2)\n",
    "plt.plot(x_linear_function, y_linear_function, color='red', label=f'Linear Function: y = {slope:.6f}x + {intercept:.2f}')\n",
    "\n",
    "plt.xlabel('Sample Index')\n",
    "plt.ylabel('Value')\n",
    "plt.title(f'Time Series for Spatial Index {spatial_index}')\n",
    "plt.legend()\n",
    "plt.show()"
   ]
  }
 ],
 "metadata": {
  "kernelspec": {
   "display_name": "Python 3",
   "language": "python",
   "name": "python3"
  },
  "language_info": {
   "codemirror_mode": {
    "name": "ipython",
    "version": 3
   },
   "file_extension": ".py",
   "mimetype": "text/x-python",
   "name": "python",
   "nbconvert_exporter": "python",
   "pygments_lexer": "ipython3",
   "version": "3.10.8"
  }
 },
 "nbformat": 4,
 "nbformat_minor": 2
}
